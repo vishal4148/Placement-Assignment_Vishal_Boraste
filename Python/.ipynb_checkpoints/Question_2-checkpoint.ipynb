{
 "cells": [
  {
   "cell_type": "markdown",
   "id": "152f1605",
   "metadata": {},
   "source": [
    "#### Question 2: -\n",
    "Consider a string to be valid if all characters of the string appear the same number of times. It is also valid if\n",
    "he can remove just one character at the index in the string, and the remaining characters will occur the same\n",
    "number of times. Given a string, determine if it is valid. If so, return YES , otherwise return NO .\n",
    "\n",
    "Note - You have to write at least 2 additional test cases in which your program will run successfully and provide\n",
    "an explanation for the same.\n",
    "\n",
    "Example input 1 - s = “abc”. This is a valid string because frequencies are { “a”: 1, “b”: 1, “c”: 1 }\n",
    "\n",
    "Example output 1- YES\n",
    "\n",
    "Example input 2 - s “abcc”. This string is not valid as we can remove only 1 occurrence of “c”. That leaves\n",
    "character frequencies of { “a”: 1, “b”: 1 , “c”: 2 }\n",
    "\n",
    "Example output 2 - NO"
   ]
  },
  {
   "cell_type": "code",
   "execution_count": 15,
   "id": "fce24dc0",
   "metadata": {},
   "outputs": [],
   "source": [
    "def IsStringValid(string):\n",
    "    character_freq = dict()\n",
    "\n",
    "    for char in string:\n",
    "\n",
    "        if char in character_freq: \n",
    "            character_freq[char] += 1\n",
    "        else:\n",
    "            character_freq[char] = 1\n",
    "\n",
    "    #we can remove the duplicate frequencies\n",
    "    unique_frequency = set(character_freq.values())    \n",
    "    \n",
    "    #Check if all frequencies are the same is True retrun \"Yes\"\n",
    "    if len(unique_frequency) == 1:\n",
    "        return \"YES\"\n",
    "    #Check for given  morethan two unique frequencies, Is True return \"No\"\n",
    "    if len(unique_frequency) > 2:\n",
    "        return \"NO\"\n",
    "    \n",
    "    #If there are two frequency and there is only 1 char with frequency 1 \n",
    "    if list(character_freq.values()).count(1) == 1:\n",
    "        return \"YES\"\n",
    "    else: \n",
    "        #Else all other cases string is invalid Then retrun \"No\"\n",
    "        return \"NO\""
   ]
  },
  {
   "cell_type": "code",
   "execution_count": 16,
   "id": "8d72fd47",
   "metadata": {},
   "outputs": [
    {
     "name": "stdout",
     "output_type": "stream",
     "text": [
      "YES\n"
     ]
    }
   ],
   "source": [
    "#test case 1:\n",
    "string = \"abc\"\n",
    "print(IsStringValid(string))\n",
    "#output: YES\n",
    "#Explanation: This is a valid string because in this given input  frequencies are { “a”: 1, “b”: 1, “c”: 1 }\n"
   ]
  },
  {
   "cell_type": "code",
   "execution_count": 17,
   "id": "b19be680",
   "metadata": {},
   "outputs": [
    {
     "name": "stdout",
     "output_type": "stream",
     "text": [
      "NO\n"
     ]
    }
   ],
   "source": [
    "#test case 2:\n",
    "string = \"abccc\"\n",
    "print(IsStringValid(string))\n",
    "#output: NO\n",
    "#Explanation: This string is not valid because in this given input \"c\" occur t time are { “a”: 1, “b”: 1 , “c”: 2 }. "
   ]
  },
  {
   "cell_type": "code",
   "execution_count": 18,
   "id": "715784c9",
   "metadata": {},
   "outputs": [
    {
     "name": "stdout",
     "output_type": "stream",
     "text": [
      "NO\n"
     ]
    }
   ],
   "source": [
    "#test case 3:\n",
    "string = \"aabbcccd\"\n",
    "print(IsStringValid(string))\n",
    "#output: NO\n",
    "#Explanation: Frequencies: {'a': 2, 'b': 2, 'c': 3, 'd': 1}\n",
    "# This string is not valid as no of the frequncies are more than 2 "
   ]
  },
  {
   "cell_type": "code",
   "execution_count": 19,
   "id": "e8b8abf2",
   "metadata": {},
   "outputs": [
    {
     "name": "stdout",
     "output_type": "stream",
     "text": [
      "YES\n"
     ]
    }
   ],
   "source": [
    "#test case 4:\n",
    "string = \"aabbcdd\"\n",
    "print(IsStringValid(string))\n",
    "#output: YES\n",
    "#Explanation: Frequencies: {'a': 2, 'b': 2, 'c': 1, 'd': 2}\n",
    "# Frequencies: {'a': 2, 'b': 2, 'c': 1, 'd': 2}This string is valid as just removing char 'c' all other freuencies became same"
   ]
  },
  {
   "cell_type": "code",
   "execution_count": null,
   "id": "14f6e24d",
   "metadata": {},
   "outputs": [],
   "source": []
  }
 ],
 "metadata": {
  "kernelspec": {
   "display_name": "Python 3 (ipykernel)",
   "language": "python",
   "name": "python3"
  },
  "language_info": {
   "codemirror_mode": {
    "name": "ipython",
    "version": 3
   },
   "file_extension": ".py",
   "mimetype": "text/x-python",
   "name": "python",
   "nbconvert_exporter": "python",
   "pygments_lexer": "ipython3",
   "version": "3.11.2"
  }
 },
 "nbformat": 4,
 "nbformat_minor": 5
}
