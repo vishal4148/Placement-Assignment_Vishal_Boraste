{
 "cells": [
  {
   "cell_type": "markdown",
   "id": "1811beb8",
   "metadata": {},
   "source": [
    "#### Question 1: -\n",
    "Write a program that takes a string as input, and counts the frequency of each word in the string, there might\n",
    "be repeated characters in the string. Your task is to find the highest frequency and returns the length of the\n",
    "highest-frequency word.\n",
    "\n",
    "Note - You have to write at least 2 additional test cases in which your program will run successfully and provide\n",
    "an explanation for the same.\n",
    "\n",
    "Example input - string = “write write write all the number from from from 1 to 100”\n",
    "\n",
    "Example output - 5\n",
    "\n",
    "Explanation - From the given string we can note that the most frequent words are “write” and “from” and\n",
    "the maximum value of both the values is “write” and its corresponding length is 5"
   ]
  },
  {
   "cell_type": "code",
   "execution_count": 1,
   "id": "51da08d7",
   "metadata": {},
   "outputs": [],
   "source": [
    "def getHighestFrequencyWordLen(length):\n",
    "    no_of_words = length.split()\n",
    "    word_frequency = dict()\n",
    "    for i in no_of_words:\n",
    "        if i in word_frequency:\n",
    "            word_frequency[i] += 1\n",
    "        else:\n",
    "            word_frequency[i] = 1\n",
    "\n",
    "    max_freq = max(word_frequency.values())\n",
    "\n",
    "    max_length = 0\n",
    "    for i, freq in word_frequency.items():\n",
    "        if freq == max_freq and len(i) > max_length:\n",
    "            max_length = len(i)\n",
    "\n",
    "    return max_length\n"
   ]
  },
  {
   "cell_type": "code",
   "execution_count": 2,
   "id": "52083365",
   "metadata": {},
   "outputs": [
    {
     "name": "stdout",
     "output_type": "stream",
     "text": [
      "Test Case 1: Length of highest frequncy word is 5\n",
      "Test Case 2: Length of highest frequncy word is 7\n",
      "Test Case 3: Length of highest frequncy word is 6\n"
     ]
    }
   ],
   "source": [
    "# Test Case : 1\n",
    "input1 = \"write write write all the number from from from 1 to 100\"\n",
    "print(f\"Test Case 1: Length of highest frequncy word is {getHighestFrequencyWordLen(input1)}\")\n",
    "\n",
    "#From above test case there are no word are repeating max frequency is 3 \"write\" has max length which is 5\n",
    "\n",
    "# Test Case : 2\n",
    "input2 = \"Im learning data data science from from Ineuron Ineuron Ineuron Ineuron Ineuron \"\n",
    "print(f\"Test Case 2: Length of highest frequncy word is {getHighestFrequencyWordLen(input2)}\")\n",
    "\n",
    "#From above test case there are no word are repeating max frequency is 5 \"Ineuron\" has max length which is 7\n",
    "\n",
    "# Test Case : 3\n",
    "input3 = \"My name is Vishal Vishal Vishal Boraste\"\n",
    "print(f\"Test Case 3: Length of highest frequncy word is {getHighestFrequencyWordLen(input3)}\")\n",
    "\n",
    "#From above test case there are no word are repeating max frequency is 3 \"Vishal\" has max length which is 6"
   ]
  },
  {
   "cell_type": "code",
   "execution_count": null,
   "id": "edae6506",
   "metadata": {},
   "outputs": [],
   "source": []
  }
 ],
 "metadata": {
  "kernelspec": {
   "display_name": "Python 3 (ipykernel)",
   "language": "python",
   "name": "python3"
  },
  "language_info": {
   "codemirror_mode": {
    "name": "ipython",
    "version": 3
   },
   "file_extension": ".py",
   "mimetype": "text/x-python",
   "name": "python",
   "nbconvert_exporter": "python",
   "pygments_lexer": "ipython3",
   "version": "3.11.2"
  }
 },
 "nbformat": 4,
 "nbformat_minor": 5
}
