{
 "cells": [
  {
   "cell_type": "markdown",
   "id": "f179b168",
   "metadata": {},
   "source": [
    "#### Question 10 -\n",
    "\n",
    "Write a program to count the number of verbs, nouns, pronouns, and adjectives in a given particular phrase or\n",
    "paragraph, and return their respective count as a dictionary.\n",
    "\n",
    "Note -\n",
    "\n",
    "1. Write code comments wherever required for code\n",
    "\n",
    "2. You have to write at least 2 additional test cases in which your program will run successfully and provide an explanation for the same."
   ]
  },
  {
   "cell_type": "code",
   "execution_count": 7,
   "id": "65b98d6a",
   "metadata": {},
   "outputs": [],
   "source": [
    "import spacy\n",
    "\n",
    "def count_verbs_nouns_pronouns_adj(text):\n",
    "    # Initialize counts\n",
    "    counts = {\n",
    "        'Noun': 0,\n",
    "        'Verb': 0,\n",
    "        'Pronoun': 0,\n",
    "        'Adjective': 0\n",
    "    }\n",
    "    \n",
    "    # Load the pre-trained English model\n",
    "    nlp = spacy.load('en_core_web_sm')\n",
    "    \n",
    "    # Process the text\n",
    "    doc = nlp(text)\n",
    "    \n",
    "    # Iterate over the tokens and count each category\n",
    "    for token in doc:\n",
    "        if token.pos_ == 'NOUN':\n",
    "            counts['Noun'] += 1\n",
    "        elif token.pos_ == 'VERB':\n",
    "            counts['Verb'] += 1\n",
    "        elif token.pos_ == 'PRON':\n",
    "            counts['Pronoun'] += 1\n",
    "        elif token.pos_ == 'ADJ':\n",
    "            counts['Adjective'] += 1\n",
    "    return counts\n"
   ]
  },
  {
   "cell_type": "code",
   "execution_count": 10,
   "id": "2705a38d",
   "metadata": {},
   "outputs": [
    {
     "name": "stdout",
     "output_type": "stream",
     "text": [
      "{'Noun': 2, 'Verb': 1, 'Pronoun': 0, 'Adjective': 3}\n"
     ]
    }
   ],
   "source": [
    "# Test the function with example phrases\n",
    "phrase1 = \"The quick brown fox jumps over the lazy dog.\"\n",
    "print(count_verbs_nouns_pronouns_adj(phrase1))\n"
   ]
  },
  {
   "cell_type": "code",
   "execution_count": 9,
   "id": "505c9acf",
   "metadata": {},
   "outputs": [
    {
     "name": "stdout",
     "output_type": "stream",
     "text": [
      "{'Noun': 2, 'Verb': 2, 'Pronoun': 2, 'Adjective': 0}\n"
     ]
    }
   ],
   "source": [
    "phrase2 = \"I love eating pizza with my friends.\"\n",
    "print(count_verbs_nouns_pronouns_adj(phrase2))"
   ]
  },
  {
   "cell_type": "code",
   "execution_count": 11,
   "id": "165cc7bd",
   "metadata": {},
   "outputs": [
    {
     "name": "stdout",
     "output_type": "stream",
     "text": [
      "{'Noun': 3, 'Verb': 2, 'Pronoun': 2, 'Adjective': 1}\n"
     ]
    }
   ],
   "source": [
    "phrase2 = \"My name is vishal boraste and i love to play with data.\"\n",
    "print(count_verbs_nouns_pronouns_adj(phrase2))"
   ]
  },
  {
   "cell_type": "code",
   "execution_count": null,
   "id": "d17c7027",
   "metadata": {},
   "outputs": [],
   "source": []
  }
 ],
 "metadata": {
  "kernelspec": {
   "display_name": "Python 3 (ipykernel)",
   "language": "python",
   "name": "python3"
  },
  "language_info": {
   "codemirror_mode": {
    "name": "ipython",
    "version": 3
   },
   "file_extension": ".py",
   "mimetype": "text/x-python",
   "name": "python",
   "nbconvert_exporter": "python",
   "pygments_lexer": "ipython3",
   "version": "3.11.2"
  }
 },
 "nbformat": 4,
 "nbformat_minor": 5
}
