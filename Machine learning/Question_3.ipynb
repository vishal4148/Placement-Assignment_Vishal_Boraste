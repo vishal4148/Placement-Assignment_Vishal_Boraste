{
 "cells": [
  {
   "cell_type": "markdown",
   "id": "cf0cbf33",
   "metadata": {},
   "source": [
    "#### Q-3. Imagine you have a dataset where you have different categories of data, Now you need to fnd the most similar data to the given data by using any 4 different similarity algorithms. Now you have to build a model which can find the most similar data to the given data."
   ]
  },
  {
   "cell_type": "code",
   "execution_count": 7,
   "id": "c96abdfb",
   "metadata": {},
   "outputs": [],
   "source": [
    "import pandas as pd\n",
    "df2=pd.read_json(\"News_Category_Dataset_v3.json\",lines=True)"
   ]
  },
  {
   "cell_type": "code",
   "execution_count": 8,
   "id": "f665df5f",
   "metadata": {},
   "outputs": [
    {
     "data": {
      "text/html": [
       "<div>\n",
       "<style scoped>\n",
       "    .dataframe tbody tr th:only-of-type {\n",
       "        vertical-align: middle;\n",
       "    }\n",
       "\n",
       "    .dataframe tbody tr th {\n",
       "        vertical-align: top;\n",
       "    }\n",
       "\n",
       "    .dataframe thead th {\n",
       "        text-align: right;\n",
       "    }\n",
       "</style>\n",
       "<table border=\"1\" class=\"dataframe\">\n",
       "  <thead>\n",
       "    <tr style=\"text-align: right;\">\n",
       "      <th></th>\n",
       "      <th>link</th>\n",
       "      <th>headline</th>\n",
       "      <th>category</th>\n",
       "      <th>short_description</th>\n",
       "      <th>authors</th>\n",
       "      <th>date</th>\n",
       "    </tr>\n",
       "  </thead>\n",
       "  <tbody>\n",
       "    <tr>\n",
       "      <th>0</th>\n",
       "      <td>https://www.huffpost.com/entry/covid-boosters-...</td>\n",
       "      <td>Over 4 Million Americans Roll Up Sleeves For O...</td>\n",
       "      <td>U.S. NEWS</td>\n",
       "      <td>Health experts said it is too early to predict...</td>\n",
       "      <td>Carla K. Johnson, AP</td>\n",
       "      <td>2022-09-23</td>\n",
       "    </tr>\n",
       "    <tr>\n",
       "      <th>1</th>\n",
       "      <td>https://www.huffpost.com/entry/american-airlin...</td>\n",
       "      <td>American Airlines Flyer Charged, Banned For Li...</td>\n",
       "      <td>U.S. NEWS</td>\n",
       "      <td>He was subdued by passengers and crew when he ...</td>\n",
       "      <td>Mary Papenfuss</td>\n",
       "      <td>2022-09-23</td>\n",
       "    </tr>\n",
       "    <tr>\n",
       "      <th>2</th>\n",
       "      <td>https://www.huffpost.com/entry/funniest-tweets...</td>\n",
       "      <td>23 Of The Funniest Tweets About Cats And Dogs ...</td>\n",
       "      <td>COMEDY</td>\n",
       "      <td>\"Until you have a dog you don't understand wha...</td>\n",
       "      <td>Elyse Wanshel</td>\n",
       "      <td>2022-09-23</td>\n",
       "    </tr>\n",
       "    <tr>\n",
       "      <th>3</th>\n",
       "      <td>https://www.huffpost.com/entry/funniest-parent...</td>\n",
       "      <td>The Funniest Tweets From Parents This Week (Se...</td>\n",
       "      <td>PARENTING</td>\n",
       "      <td>\"Accidentally put grown-up toothpaste on my to...</td>\n",
       "      <td>Caroline Bologna</td>\n",
       "      <td>2022-09-23</td>\n",
       "    </tr>\n",
       "    <tr>\n",
       "      <th>4</th>\n",
       "      <td>https://www.huffpost.com/entry/amy-cooper-lose...</td>\n",
       "      <td>Woman Who Called Cops On Black Bird-Watcher Lo...</td>\n",
       "      <td>U.S. NEWS</td>\n",
       "      <td>Amy Cooper accused investment firm Franklin Te...</td>\n",
       "      <td>Nina Golgowski</td>\n",
       "      <td>2022-09-22</td>\n",
       "    </tr>\n",
       "    <tr>\n",
       "      <th>...</th>\n",
       "      <td>...</td>\n",
       "      <td>...</td>\n",
       "      <td>...</td>\n",
       "      <td>...</td>\n",
       "      <td>...</td>\n",
       "      <td>...</td>\n",
       "    </tr>\n",
       "    <tr>\n",
       "      <th>209522</th>\n",
       "      <td>https://www.huffingtonpost.com/entry/rim-ceo-t...</td>\n",
       "      <td>RIM CEO Thorsten Heins' 'Significant' Plans Fo...</td>\n",
       "      <td>TECH</td>\n",
       "      <td>Verizon Wireless and AT&amp;T are already promotin...</td>\n",
       "      <td>Reuters, Reuters</td>\n",
       "      <td>2012-01-28</td>\n",
       "    </tr>\n",
       "    <tr>\n",
       "      <th>209523</th>\n",
       "      <td>https://www.huffingtonpost.com/entry/maria-sha...</td>\n",
       "      <td>Maria Sharapova Stunned By Victoria Azarenka I...</td>\n",
       "      <td>SPORTS</td>\n",
       "      <td>Afterward, Azarenka, more effusive with the pr...</td>\n",
       "      <td></td>\n",
       "      <td>2012-01-28</td>\n",
       "    </tr>\n",
       "    <tr>\n",
       "      <th>209524</th>\n",
       "      <td>https://www.huffingtonpost.com/entry/super-bow...</td>\n",
       "      <td>Giants Over Patriots, Jets Over Colts Among  M...</td>\n",
       "      <td>SPORTS</td>\n",
       "      <td>Leading up to Super Bowl XLVI, the most talked...</td>\n",
       "      <td></td>\n",
       "      <td>2012-01-28</td>\n",
       "    </tr>\n",
       "    <tr>\n",
       "      <th>209525</th>\n",
       "      <td>https://www.huffingtonpost.com/entry/aldon-smi...</td>\n",
       "      <td>Aldon Smith Arrested: 49ers Linebacker Busted ...</td>\n",
       "      <td>SPORTS</td>\n",
       "      <td>CORRECTION: An earlier version of this story i...</td>\n",
       "      <td></td>\n",
       "      <td>2012-01-28</td>\n",
       "    </tr>\n",
       "    <tr>\n",
       "      <th>209526</th>\n",
       "      <td>https://www.huffingtonpost.com/entry/dwight-ho...</td>\n",
       "      <td>Dwight Howard Rips Teammates After Magic Loss ...</td>\n",
       "      <td>SPORTS</td>\n",
       "      <td>The five-time all-star center tore into his te...</td>\n",
       "      <td></td>\n",
       "      <td>2012-01-28</td>\n",
       "    </tr>\n",
       "  </tbody>\n",
       "</table>\n",
       "<p>209527 rows × 6 columns</p>\n",
       "</div>"
      ],
      "text/plain": [
       "                                                     link   \n",
       "0       https://www.huffpost.com/entry/covid-boosters-...  \\\n",
       "1       https://www.huffpost.com/entry/american-airlin...   \n",
       "2       https://www.huffpost.com/entry/funniest-tweets...   \n",
       "3       https://www.huffpost.com/entry/funniest-parent...   \n",
       "4       https://www.huffpost.com/entry/amy-cooper-lose...   \n",
       "...                                                   ...   \n",
       "209522  https://www.huffingtonpost.com/entry/rim-ceo-t...   \n",
       "209523  https://www.huffingtonpost.com/entry/maria-sha...   \n",
       "209524  https://www.huffingtonpost.com/entry/super-bow...   \n",
       "209525  https://www.huffingtonpost.com/entry/aldon-smi...   \n",
       "209526  https://www.huffingtonpost.com/entry/dwight-ho...   \n",
       "\n",
       "                                                 headline   category   \n",
       "0       Over 4 Million Americans Roll Up Sleeves For O...  U.S. NEWS  \\\n",
       "1       American Airlines Flyer Charged, Banned For Li...  U.S. NEWS   \n",
       "2       23 Of The Funniest Tweets About Cats And Dogs ...     COMEDY   \n",
       "3       The Funniest Tweets From Parents This Week (Se...  PARENTING   \n",
       "4       Woman Who Called Cops On Black Bird-Watcher Lo...  U.S. NEWS   \n",
       "...                                                   ...        ...   \n",
       "209522  RIM CEO Thorsten Heins' 'Significant' Plans Fo...       TECH   \n",
       "209523  Maria Sharapova Stunned By Victoria Azarenka I...     SPORTS   \n",
       "209524  Giants Over Patriots, Jets Over Colts Among  M...     SPORTS   \n",
       "209525  Aldon Smith Arrested: 49ers Linebacker Busted ...     SPORTS   \n",
       "209526  Dwight Howard Rips Teammates After Magic Loss ...     SPORTS   \n",
       "\n",
       "                                        short_description   \n",
       "0       Health experts said it is too early to predict...  \\\n",
       "1       He was subdued by passengers and crew when he ...   \n",
       "2       \"Until you have a dog you don't understand wha...   \n",
       "3       \"Accidentally put grown-up toothpaste on my to...   \n",
       "4       Amy Cooper accused investment firm Franklin Te...   \n",
       "...                                                   ...   \n",
       "209522  Verizon Wireless and AT&T are already promotin...   \n",
       "209523  Afterward, Azarenka, more effusive with the pr...   \n",
       "209524  Leading up to Super Bowl XLVI, the most talked...   \n",
       "209525  CORRECTION: An earlier version of this story i...   \n",
       "209526  The five-time all-star center tore into his te...   \n",
       "\n",
       "                     authors       date  \n",
       "0       Carla K. Johnson, AP 2022-09-23  \n",
       "1             Mary Papenfuss 2022-09-23  \n",
       "2              Elyse Wanshel 2022-09-23  \n",
       "3           Caroline Bologna 2022-09-23  \n",
       "4             Nina Golgowski 2022-09-22  \n",
       "...                      ...        ...  \n",
       "209522      Reuters, Reuters 2012-01-28  \n",
       "209523                       2012-01-28  \n",
       "209524                       2012-01-28  \n",
       "209525                       2012-01-28  \n",
       "209526                       2012-01-28  \n",
       "\n",
       "[209527 rows x 6 columns]"
      ]
     },
     "execution_count": 8,
     "metadata": {},
     "output_type": "execute_result"
    }
   ],
   "source": [
    "df2"
   ]
  },
  {
   "cell_type": "code",
   "execution_count": 4,
   "id": "72a21766",
   "metadata": {},
   "outputs": [],
   "source": [
    "import pandas as pd\n",
    "from sklearn.feature_extraction.text import TfidfVectorizer\n",
    "from sklearn.metrics.pairwise import cosine_similarity\n",
    "from sklearn.metrics.pairwise import euclidean_distances\n",
    "from sklearn.metrics import jaccard_score\n",
    "import Levenshtein"
   ]
  },
  {
   "cell_type": "code",
   "execution_count": 3,
   "id": "0c8fd986",
   "metadata": {},
   "outputs": [
    {
     "name": "stdout",
     "output_type": "stream",
     "text": [
      "Collecting python-LevenshteinNote: you may need to restart the kernel to use updated packages.\n",
      "\n",
      "  Downloading python_Levenshtein-0.21.0-py3-none-any.whl (9.4 kB)\n",
      "Collecting Levenshtein==0.21.0 (from python-Levenshtein)\n",
      "  Downloading Levenshtein-0.21.0-cp311-cp311-win_amd64.whl (101 kB)\n",
      "                                              0.0/101.3 kB ? eta -:--:--\n",
      "     -----------                             30.7/101.3 kB 1.4 MB/s eta 0:00:01\n",
      "     -----------------------------------     92.2/101.3 kB 1.1 MB/s eta 0:00:01\n",
      "     ------------------------------------ 101.3/101.3 kB 968.8 kB/s eta 0:00:00\n",
      "Collecting rapidfuzz<4.0.0,>=2.3.0 (from Levenshtein==0.21.0->python-Levenshtein)\n",
      "  Downloading rapidfuzz-3.1.0-cp311-cp311-win_amd64.whl (1.8 MB)\n",
      "                                              0.0/1.8 MB ? eta -:--:--\n",
      "     -                                        0.1/1.8 MB 1.7 MB/s eta 0:00:02\n",
      "     ---                                      0.2/1.8 MB 1.8 MB/s eta 0:00:01\n",
      "     ----                                     0.2/1.8 MB 1.6 MB/s eta 0:00:02\n",
      "     ------                                   0.3/1.8 MB 1.6 MB/s eta 0:00:01\n",
      "     --------                                 0.4/1.8 MB 1.8 MB/s eta 0:00:01\n",
      "     ----------                               0.5/1.8 MB 1.9 MB/s eta 0:00:01\n",
      "     ------------                             0.6/1.8 MB 1.9 MB/s eta 0:00:01\n",
      "     --------------                           0.7/1.8 MB 1.9 MB/s eta 0:00:01\n",
      "     ----------------                         0.8/1.8 MB 1.8 MB/s eta 0:00:01\n",
      "     ------------------                       0.8/1.8 MB 1.9 MB/s eta 0:00:01\n",
      "     -------------------                      0.9/1.8 MB 1.8 MB/s eta 0:00:01\n",
      "     ---------------------                    1.0/1.8 MB 1.8 MB/s eta 0:00:01\n",
      "     ------------------------                 1.1/1.8 MB 1.9 MB/s eta 0:00:01\n",
      "     --------------------------               1.2/1.8 MB 1.9 MB/s eta 0:00:01\n",
      "     -----------------------------            1.4/1.8 MB 2.0 MB/s eta 0:00:01\n",
      "     ---------------------------------        1.5/1.8 MB 2.1 MB/s eta 0:00:01\n",
      "     -----------------------------------      1.6/1.8 MB 2.1 MB/s eta 0:00:01\n",
      "     --------------------------------------   1.8/1.8 MB 2.1 MB/s eta 0:00:01\n",
      "     ---------------------------------------  1.8/1.8 MB 2.1 MB/s eta 0:00:01\n",
      "     ---------------------------------------- 1.8/1.8 MB 2.0 MB/s eta 0:00:00\n",
      "Installing collected packages: rapidfuzz, Levenshtein, python-Levenshtein\n",
      "Successfully installed Levenshtein-0.21.0 python-Levenshtein-0.21.0 rapidfuzz-3.1.0\n"
     ]
    }
   ],
   "source": [
    "pip install python-Levenshtein"
   ]
  },
  {
   "cell_type": "code",
   "execution_count": 5,
   "id": "d4e2865c",
   "metadata": {},
   "outputs": [],
   "source": [
    "# Select the relevant columns for similarity calculation\n",
    "selected_columns = ['headline', 'category', 'short_description']"
   ]
  },
  {
   "cell_type": "code",
   "execution_count": 9,
   "id": "0b51f4f9",
   "metadata": {},
   "outputs": [],
   "source": [
    "# Preprocess the text data\n",
    "text_data = df2[selected_columns].apply(lambda x: ' '.join(x), axis=1)"
   ]
  },
  {
   "cell_type": "code",
   "execution_count": 10,
   "id": "91171f42",
   "metadata": {},
   "outputs": [],
   "source": [
    "# Create a TF-IDF vectorizer\n",
    "vectorizer = TfidfVectorizer()"
   ]
  },
  {
   "cell_type": "code",
   "execution_count": 11,
   "id": "870b1e7f",
   "metadata": {},
   "outputs": [],
   "source": [
    "# Vectorize the text data\n",
    "text_vectors = vectorizer.fit_transform(text_data)"
   ]
  },
  {
   "cell_type": "code",
   "execution_count": 12,
   "id": "77948cc9",
   "metadata": {},
   "outputs": [],
   "source": [
    "# Select a data point for similarity comparison (e.g., the first data point)\n",
    "query_data = text_data.iloc[0]\n",
    "query_vector = vectorizer.transform([query_data])"
   ]
  },
  {
   "cell_type": "code",
   "execution_count": 13,
   "id": "785ef8e0",
   "metadata": {},
   "outputs": [],
   "source": [
    "# Calculate cosine similarity\n",
    "cosine_similarities = cosine_similarity(query_vector, text_vectors).flatten()"
   ]
  },
  {
   "cell_type": "code",
   "execution_count": 14,
   "id": "f420d0b5",
   "metadata": {},
   "outputs": [],
   "source": [
    "# Calculate Jaccard similarity\n",
    "jaccard_similarities = []\n",
    "for text in text_data:\n",
    "    intersection = set(query_data.split()).intersection(text.split())\n",
    "    union = set(query_data.split()).union(text.split())\n",
    "    similarity = len(intersection) / len(union)\n",
    "    jaccard_similarities.append(similarity)"
   ]
  },
  {
   "cell_type": "code",
   "execution_count": 15,
   "id": "acbede86",
   "metadata": {},
   "outputs": [],
   "source": [
    "# Calculate Levenshtein distance\n",
    "levenshtein_distances = []\n",
    "for text in text_data:\n",
    "    levenshtein_distances.append(Levenshtein.distance(query_data, text))"
   ]
  },
  {
   "cell_type": "code",
   "execution_count": 16,
   "id": "573d04b0",
   "metadata": {},
   "outputs": [],
   "source": [
    "# Create a DataFrame to store the similarity results\n",
    "similarity_df2 = pd.DataFrame({\n",
    "    'Cosine Similarity': cosine_similarities,\n",
    "    'Jaccard Similarity': jaccard_similarities,\n",
    "    'Levenshtein Distance': levenshtein_distances\n",
    "})"
   ]
  },
  {
   "cell_type": "code",
   "execution_count": 17,
   "id": "9971013f",
   "metadata": {},
   "outputs": [
    {
     "name": "stdout",
     "output_type": "stream",
     "text": [
      "Most similar data (Cosine Similarity):\n",
      "link                 https://www.huffpost.com/entry/covid-boosters-...\n",
      "headline             Over 4 Million Americans Roll Up Sleeves For O...\n",
      "category                                                     U.S. NEWS\n",
      "short_description    Health experts said it is too early to predict...\n",
      "authors                                           Carla K. Johnson, AP\n",
      "date                                               2022-09-23 00:00:00\n",
      "Name: 0, dtype: object\n",
      "Most similar data (Jaccard Similarity):\n",
      "link                 https://www.huffpost.com/entry/covid-boosters-...\n",
      "headline             Over 4 Million Americans Roll Up Sleeves For O...\n",
      "category                                                     U.S. NEWS\n",
      "short_description    Health experts said it is too early to predict...\n",
      "authors                                           Carla K. Johnson, AP\n",
      "date                                               2022-09-23 00:00:00\n",
      "Name: 0, dtype: object\n",
      "Most similar data (Levenshtein Distance):\n",
      "link                 https://www.huffpost.com/entry/covid-boosters-...\n",
      "headline             Over 4 Million Americans Roll Up Sleeves For O...\n",
      "category                                                     U.S. NEWS\n",
      "short_description    Health experts said it is too early to predict...\n",
      "authors                                           Carla K. Johnson, AP\n",
      "date                                               2022-09-23 00:00:00\n",
      "Name: 0, dtype: object\n"
     ]
    }
   ],
   "source": [
    "# Find the most similar data point based on each similarity algorithm\n",
    "most_similar_cosine = similarity_df2['Cosine Similarity'].idxmax()\n",
    "most_similar_jaccard = similarity_df2['Jaccard Similarity'].idxmax()\n",
    "most_similar_levenshtein = similarity_df2['Levenshtein Distance'].idxmin()\n",
    "\n",
    "# Print the most similar data points\n",
    "print(\"Most similar data (Cosine Similarity):\")\n",
    "print(df2.loc[most_similar_cosine])\n",
    "\n",
    "print(\"Most similar data (Jaccard Similarity):\")\n",
    "print(df2.loc[most_similar_jaccard])\n",
    "\n",
    "print(\"Most similar data (Levenshtein Distance):\")\n",
    "print(df2.loc[most_similar_levenshtein])"
   ]
  },
  {
   "cell_type": "code",
   "execution_count": null,
   "id": "547fccfc",
   "metadata": {},
   "outputs": [],
   "source": [
    " "
   ]
  }
 ],
 "metadata": {
  "kernelspec": {
   "display_name": "Python 3 (ipykernel)",
   "language": "python",
   "name": "python3"
  },
  "language_info": {
   "codemirror_mode": {
    "name": "ipython",
    "version": 3
   },
   "file_extension": ".py",
   "mimetype": "text/x-python",
   "name": "python",
   "nbconvert_exporter": "python",
   "pygments_lexer": "ipython3",
   "version": "3.11.2"
  }
 },
 "nbformat": 4,
 "nbformat_minor": 5
}
