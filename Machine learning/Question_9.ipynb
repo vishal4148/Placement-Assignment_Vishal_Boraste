{
 "cells": [
  {
   "cell_type": "markdown",
   "id": "3fc48bed",
   "metadata": {},
   "source": [
    "#### Q-9. A cyber security agent wants to check the Microsoft Malware so need he came to you as a Machine learning Engineering with Data, You need to find the Malware using a supervised algorithm and you need to find the accuracy of the model. Dataset This is the Dataset You can use this dataset for this question."
   ]
  },
  {
   "cell_type": "code",
   "execution_count": 1,
   "id": "f7363dbd",
   "metadata": {},
   "outputs": [],
   "source": [
    "import numpy as np \n",
    "import pandas as pd"
   ]
  },
  {
   "cell_type": "code",
   "execution_count": 3,
   "id": "0726e9c7",
   "metadata": {},
   "outputs": [
    {
     "data": {
      "text/html": [
       "<div>\n",
       "<style scoped>\n",
       "    .dataframe tbody tr th:only-of-type {\n",
       "        vertical-align: middle;\n",
       "    }\n",
       "\n",
       "    .dataframe tbody tr th {\n",
       "        vertical-align: top;\n",
       "    }\n",
       "\n",
       "    .dataframe thead th {\n",
       "        text-align: right;\n",
       "    }\n",
       "</style>\n",
       "<table border=\"1\" class=\"dataframe\">\n",
       "  <thead>\n",
       "    <tr style=\"text-align: right;\">\n",
       "      <th></th>\n",
       "      <th>MachineIdentifier</th>\n",
       "      <th>HasDetections</th>\n",
       "    </tr>\n",
       "  </thead>\n",
       "  <tbody>\n",
       "    <tr>\n",
       "      <th>0</th>\n",
       "      <td>0000010489e3af074adeac69c53e555e</td>\n",
       "      <td>0.5</td>\n",
       "    </tr>\n",
       "    <tr>\n",
       "      <th>1</th>\n",
       "      <td>00000176ac758d54827acd545b6315a5</td>\n",
       "      <td>0.5</td>\n",
       "    </tr>\n",
       "    <tr>\n",
       "      <th>2</th>\n",
       "      <td>0000019dcefc128c2d4387c1273dae1d</td>\n",
       "      <td>0.5</td>\n",
       "    </tr>\n",
       "    <tr>\n",
       "      <th>3</th>\n",
       "      <td>0000055553dc51b1295785415f1a224d</td>\n",
       "      <td>0.5</td>\n",
       "    </tr>\n",
       "    <tr>\n",
       "      <th>4</th>\n",
       "      <td>00000574cefffeca83ec8adf9285b2bf</td>\n",
       "      <td>0.5</td>\n",
       "    </tr>\n",
       "  </tbody>\n",
       "</table>\n",
       "</div>"
      ],
      "text/plain": [
       "                  MachineIdentifier  HasDetections\n",
       "0  0000010489e3af074adeac69c53e555e            0.5\n",
       "1  00000176ac758d54827acd545b6315a5            0.5\n",
       "2  0000019dcefc128c2d4387c1273dae1d            0.5\n",
       "3  0000055553dc51b1295785415f1a224d            0.5\n",
       "4  00000574cefffeca83ec8adf9285b2bf            0.5"
      ]
     },
     "execution_count": 3,
     "metadata": {},
     "output_type": "execute_result"
    }
   ],
   "source": [
    "df = pd.read_csv(\"sample_submission.csv\")\n",
    "df.head()"
   ]
  },
  {
   "cell_type": "code",
   "execution_count": 4,
   "id": "03e375c1",
   "metadata": {},
   "outputs": [
    {
     "data": {
      "text/html": [
       "<div>\n",
       "<style scoped>\n",
       "    .dataframe tbody tr th:only-of-type {\n",
       "        vertical-align: middle;\n",
       "    }\n",
       "\n",
       "    .dataframe tbody tr th {\n",
       "        vertical-align: top;\n",
       "    }\n",
       "\n",
       "    .dataframe thead th {\n",
       "        text-align: right;\n",
       "    }\n",
       "</style>\n",
       "<table border=\"1\" class=\"dataframe\">\n",
       "  <thead>\n",
       "    <tr style=\"text-align: right;\">\n",
       "      <th></th>\n",
       "      <th>MachineIdentifier</th>\n",
       "      <th>HasDetections</th>\n",
       "    </tr>\n",
       "  </thead>\n",
       "  <tbody>\n",
       "    <tr>\n",
       "      <th>7853248</th>\n",
       "      <td>fffff8c0e065c468a2373f7afd5e7674</td>\n",
       "      <td>0.5</td>\n",
       "    </tr>\n",
       "    <tr>\n",
       "      <th>7853249</th>\n",
       "      <td>fffff90b27a1248b6fffc7a535bd736c</td>\n",
       "      <td>0.5</td>\n",
       "    </tr>\n",
       "    <tr>\n",
       "      <th>7853250</th>\n",
       "      <td>fffffa6a956c17ddbabca53d4ab708ae</td>\n",
       "      <td>0.5</td>\n",
       "    </tr>\n",
       "    <tr>\n",
       "      <th>7853251</th>\n",
       "      <td>fffffad7b6c8196ec5cae634406c0d4f</td>\n",
       "      <td>0.5</td>\n",
       "    </tr>\n",
       "    <tr>\n",
       "      <th>7853252</th>\n",
       "      <td>fffffbd305a90eb0f93ee4f30a39c736</td>\n",
       "      <td>0.5</td>\n",
       "    </tr>\n",
       "  </tbody>\n",
       "</table>\n",
       "</div>"
      ],
      "text/plain": [
       "                        MachineIdentifier  HasDetections\n",
       "7853248  fffff8c0e065c468a2373f7afd5e7674            0.5\n",
       "7853249  fffff90b27a1248b6fffc7a535bd736c            0.5\n",
       "7853250  fffffa6a956c17ddbabca53d4ab708ae            0.5\n",
       "7853251  fffffad7b6c8196ec5cae634406c0d4f            0.5\n",
       "7853252  fffffbd305a90eb0f93ee4f30a39c736            0.5"
      ]
     },
     "execution_count": 4,
     "metadata": {},
     "output_type": "execute_result"
    }
   ],
   "source": [
    "df.tail()"
   ]
  },
  {
   "cell_type": "code",
   "execution_count": 5,
   "id": "c71349ea",
   "metadata": {},
   "outputs": [
    {
     "data": {
      "text/plain": [
       "(7853253, 2)"
      ]
     },
     "execution_count": 5,
     "metadata": {},
     "output_type": "execute_result"
    }
   ],
   "source": [
    "df.shape"
   ]
  },
  {
   "cell_type": "code",
   "execution_count": 6,
   "id": "4b8397fc",
   "metadata": {},
   "outputs": [
    {
     "name": "stdout",
     "output_type": "stream",
     "text": [
      "<class 'pandas.core.frame.DataFrame'>\n",
      "RangeIndex: 7853253 entries, 0 to 7853252\n",
      "Data columns (total 2 columns):\n",
      " #   Column             Dtype  \n",
      "---  ------             -----  \n",
      " 0   MachineIdentifier  object \n",
      " 1   HasDetections      float64\n",
      "dtypes: float64(1), object(1)\n",
      "memory usage: 119.8+ MB\n"
     ]
    }
   ],
   "source": [
    "df.info()"
   ]
  },
  {
   "cell_type": "code",
   "execution_count": 7,
   "id": "e448f383",
   "metadata": {},
   "outputs": [
    {
     "data": {
      "text/plain": [
       "MachineIdentifier    0\n",
       "HasDetections        0\n",
       "dtype: int64"
      ]
     },
     "execution_count": 7,
     "metadata": {},
     "output_type": "execute_result"
    }
   ],
   "source": [
    "df.isnull().sum()"
   ]
  },
  {
   "cell_type": "code",
   "execution_count": 8,
   "id": "c231566c",
   "metadata": {},
   "outputs": [],
   "source": [
    "df_without_na = df.dropna()  "
   ]
  },
  {
   "cell_type": "code",
   "execution_count": 9,
   "id": "6467cb9b",
   "metadata": {},
   "outputs": [],
   "source": [
    "df_without_na = df_without_na.drop_duplicates()"
   ]
  },
  {
   "cell_type": "code",
   "execution_count": 10,
   "id": "3dda6a4c",
   "metadata": {},
   "outputs": [
    {
     "data": {
      "text/plain": [
       "(7853253, 2)"
      ]
     },
     "execution_count": 10,
     "metadata": {},
     "output_type": "execute_result"
    }
   ],
   "source": [
    "df_without_na.shape"
   ]
  },
  {
   "cell_type": "code",
   "execution_count": 11,
   "id": "7ef24713",
   "metadata": {},
   "outputs": [],
   "source": [
    "df = df_without_na.copy()"
   ]
  },
  {
   "cell_type": "code",
   "execution_count": 12,
   "id": "7e82518e",
   "metadata": {},
   "outputs": [],
   "source": [
    "good_cols = list(df.columns)\n",
    "for col in df.columns:\n",
    "    rate = df[col].value_counts(normalize=True, dropna=False).values[0]\n",
    "    if rate > 0.7:\n",
    "        good_cols.remove(col)\n",
    "train = df[good_cols]"
   ]
  },
  {
   "cell_type": "code",
   "execution_count": null,
   "id": "93f49f96",
   "metadata": {},
   "outputs": [],
   "source": []
  }
 ],
 "metadata": {
  "kernelspec": {
   "display_name": "Python 3 (ipykernel)",
   "language": "python",
   "name": "python3"
  },
  "language_info": {
   "codemirror_mode": {
    "name": "ipython",
    "version": 3
   },
   "file_extension": ".py",
   "mimetype": "text/x-python",
   "name": "python",
   "nbconvert_exporter": "python",
   "pygments_lexer": "ipython3",
   "version": "3.11.2"
  }
 },
 "nbformat": 4,
 "nbformat_minor": 5
}
