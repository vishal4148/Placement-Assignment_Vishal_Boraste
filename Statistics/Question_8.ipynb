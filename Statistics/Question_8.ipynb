{
 "cells": [
  {
   "cell_type": "markdown",
   "id": "941dd775",
   "metadata": {},
   "source": [
    "#### Q-8. The anxiety levels of 10 participants were measured before and after a new therapy. The scores are not normally distributed. Use the Wilcoxon signed-rank test to test whether the therapy had a significant effect on anxiety levels. The data is given below: Participant Before therapy After therapy Difference"
   ]
  },
  {
   "cell_type": "code",
   "execution_count": 5,
   "id": "a4ce5843",
   "metadata": {},
   "outputs": [],
   "source": [
    "from scipy import stats\n",
    "import pandas as pd\n",
    "import numpy as np"
   ]
  },
  {
   "cell_type": "code",
   "execution_count": 6,
   "id": "66c6c6eb",
   "metadata": {},
   "outputs": [],
   "source": [
    "df=pd.read_excel('Participant.xlsx')\n",
    "     "
   ]
  },
  {
   "cell_type": "code",
   "execution_count": 7,
   "id": "1da49f03",
   "metadata": {},
   "outputs": [
    {
     "data": {
      "text/plain": [
       "Participant       int64\n",
       "Before therapy    int64\n",
       "After therapy     int64\n",
       "Difference        int64\n",
       "dtype: object"
      ]
     },
     "execution_count": 7,
     "metadata": {},
     "output_type": "execute_result"
    }
   ],
   "source": [
    "import scipy.stats as stats\n",
    "df.dtypes"
   ]
  },
  {
   "cell_type": "code",
   "execution_count": 10,
   "id": "d85d2f86",
   "metadata": {},
   "outputs": [
    {
     "name": "stdout",
     "output_type": "stream",
     "text": [
      "Test Statistic: 0.0\n",
      "p-value: 0.001953125\n"
     ]
    }
   ],
   "source": [
    "Before=df['Before therapy']\n",
    "After=df['After therapy']\n",
    "statistic, p_value = stats.wilcoxon(Before,After)\n",
    "print(\"Test Statistic:\", statistic)\n",
    "print(\"p-value:\", p_value)"
   ]
  },
  {
   "cell_type": "code",
   "execution_count": null,
   "id": "d2436532",
   "metadata": {},
   "outputs": [],
   "source": [
    "Therefore, based on the Wilcoxon signed-rank test, we cannot conclude that the therapy had a significant effect on anxiety levels for the given data."
   ]
  }
 ],
 "metadata": {
  "kernelspec": {
   "display_name": "Python 3 (ipykernel)",
   "language": "python",
   "name": "python3"
  },
  "language_info": {
   "codemirror_mode": {
    "name": "ipython",
    "version": 3
   },
   "file_extension": ".py",
   "mimetype": "text/x-python",
   "name": "python",
   "nbconvert_exporter": "python",
   "pygments_lexer": "ipython3",
   "version": "3.11.2"
  }
 },
 "nbformat": 4,
 "nbformat_minor": 5
}
