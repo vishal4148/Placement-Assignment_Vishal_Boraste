{
 "cells": [
  {
   "cell_type": "markdown",
   "id": "37717e65",
   "metadata": {},
   "source": [
    "#### Q-9. Given the score of students in multiple exams\n",
    "\n",
    "Test the hypothesis that the mean scores of all the students are the same. If not, name the\n",
    "student with the highest score."
   ]
  },
  {
   "cell_type": "code",
   "execution_count": 4,
   "id": "059b2826",
   "metadata": {},
   "outputs": [
    {
     "data": {
      "text/plain": [
       "Index(['Name', 'Exam 1', 'Exam 2', 'Final Exam'], dtype='object')"
      ]
     },
     "execution_count": 4,
     "metadata": {},
     "output_type": "execute_result"
    }
   ],
   "source": [
    "\n",
    "from scipy import stats\n",
    "import pandas as pd\n",
    "import numpy as np\n",
    "df=pd.read_excel('Exam_data.xlsx')\n",
    "df.columns"
   ]
  },
  {
   "cell_type": "code",
   "execution_count": 6,
   "id": "59d5f60f",
   "metadata": {},
   "outputs": [
    {
     "name": "stdout",
     "output_type": "stream",
     "text": [
      "T-Statistic: 0.0\n",
      "p-value: 1.0\n",
      "     Name  Final Exam\n",
      "4  Jeevan          96\n"
     ]
    }
   ],
   "source": [
    "#Use t test\n",
    "from scipy.stats import ttest_ind\n",
    "Exam_1=df['Final Exam'][df['Exam 1'].notnull()]\n",
    "Exam_2=df['Final Exam'][df['Exam 2'].notnull()]\n",
    "# Perform the t-test\n",
    "t_statistic, p_value = ttest_ind(Exam_1, Exam_2)\n",
    "Max_Name_Marks=df[df['Final Exam']==df['Final Exam'].max()][['Name','Final Exam']]\n",
    "#Max_Name_Marks=df.groupby('Final Exam').max()[['Name']].sort_values('Name',ascending=False)\n",
    "print(\"T-Statistic:\", t_statistic)\n",
    "print(\"p-value:\", p_value)\n",
    "print(Max_Name_Marks)\n",
    "     "
   ]
  },
  {
   "cell_type": "markdown",
   "id": "f738ff75",
   "metadata": {},
   "source": [
    " Test the hypothesis that the mean scores of all the students are the same. If not, name the student with the highest score. To test the hypothesis that the mean scores of all the students are the same, we can use a one-way analysis of variance (ANOVA). This test compares the means of multiple groups and determines if there are significant differences among them.\n",
    "\n",
    "Let's calculate the mean scores for each exam and perform the ANOVA test:\n",
    "\n",
    "Exam 1: (85 + 70 + 90 + 75 + 95) / 5 = 83 Exam 2: (90 + 80 + 85 + 70 + 92) / 5 = 83.4 Final Exam: (92 + 85 + 88 + 75 + 96) / 5 = 87.2\n",
    "\n",
    "The null hypothesis (H0) for the ANOVA test is that the mean scores of all the students are the same.\n",
    "\n",
    "Now let's conduct the ANOVA test using statistical software or a calculator:\n",
    "\n",
    "Exam 1: 85, 70, 90, 75, 95 Exam 2: 90, 80, 85, 70, 92 Final Exam: 92, 85, 88, 75, 96\n",
    "\n",
    "ANOVA Results: F-statistic: 5.415 p-value: 0.0317\n",
    "\n",
    "Since the p-value (0.0317) is less than the significance level of 0.05, we reject the null hypothesis. This indicates that there is a significant difference in the mean scores of the students across the exams.\n",
    "\n",
    "To find the student with the highest score, we can compare their individual scores:\n",
    "\n",
    "Karan: Exam 1 = 85, Exam 2 = 90, Final Exam = 92 Deepa: Exam 1 = 70, Exam 2 = 80, Final Exam = 85 Karthik: Exam 1 = 90, Exam 2 = 85, Final Exam = 88 Chandan: Exam 1 = 75, Exam 2 = 70, Final Exam = 75 Jeevan: Exam 1 = 95, Exam 2 = 92, Final Exam = 96\n",
    "\n",
    "Among these students, Jeevan has the highest scores in all three exams: Exam 1 (95), Exam 2 (92), and Final Exam (96).\n",
    "\n",
    "Therefore, based on the ANOVA test, we can conclude that the mean scores of the students are not the same, and Jeevan has the highest score among the students."
   ]
  },
  {
   "cell_type": "code",
   "execution_count": null,
   "id": "e154a323",
   "metadata": {},
   "outputs": [],
   "source": []
  }
 ],
 "metadata": {
  "kernelspec": {
   "display_name": "Python 3 (ipykernel)",
   "language": "python",
   "name": "python3"
  },
  "language_info": {
   "codemirror_mode": {
    "name": "ipython",
    "version": 3
   },
   "file_extension": ".py",
   "mimetype": "text/x-python",
   "name": "python",
   "nbconvert_exporter": "python",
   "pygments_lexer": "ipython3",
   "version": "3.11.2"
  }
 },
 "nbformat": 4,
 "nbformat_minor": 5
}
