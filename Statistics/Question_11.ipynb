{
 "cells": [
  {
   "cell_type": "markdown",
   "id": "526e128c",
   "metadata": {},
   "source": [
    "#### Q-11. Given the data of a feature contributing to different classes\n",
    "\n",
    "a. Check whether the distribution of all the classes are the same or not0.\n",
    "\n",
    "b. Check for the equality of variance/\n",
    "\n",
    "c. Which amount LDA and QDA would perform better on this data for classification and why.\n",
    "\n",
    "d. Check the equality of mean for between all the classes."
   ]
  },
  {
   "cell_type": "code",
   "execution_count": 1,
   "id": "f17c529e",
   "metadata": {},
   "outputs": [
    {
     "name": "stdout",
     "output_type": "stream",
     "text": [
      "   Patient ID   Blood Pressure Before (mmHg)   Blood Pressure After (mmHg)\n",
      "0           1                            130                           120\n",
      "1           2                            142                           135\n",
      "2           3                            120                           118\n",
      "3           4                            135                           127\n",
      "4           5                            148                           140\n"
     ]
    }
   ],
   "source": [
    "import pandas as pd\n",
    "import scipy.stats as stats\n",
    "\n",
    "# Load the dataset\n",
    "data_url = \"Blood Pressure.csv\"\n",
    "data = pd.read_csv(data_url)\n",
    "\n",
    "# Display the first few rows of the dataset\n",
    "print(data.head())"
   ]
  },
  {
   "cell_type": "code",
   "execution_count": 2,
   "id": "dc08c2e1",
   "metadata": {},
   "outputs": [
    {
     "data": {
      "text/html": [
       "<div>\n",
       "<style scoped>\n",
       "    .dataframe tbody tr th:only-of-type {\n",
       "        vertical-align: middle;\n",
       "    }\n",
       "\n",
       "    .dataframe tbody tr th {\n",
       "        vertical-align: top;\n",
       "    }\n",
       "\n",
       "    .dataframe thead th {\n",
       "        text-align: right;\n",
       "    }\n",
       "</style>\n",
       "<table border=\"1\" class=\"dataframe\">\n",
       "  <thead>\n",
       "    <tr style=\"text-align: right;\">\n",
       "      <th></th>\n",
       "      <th>Patient ID</th>\n",
       "      <th>Blood Pressure Before (mmHg)</th>\n",
       "      <th>Blood Pressure After (mmHg)</th>\n",
       "    </tr>\n",
       "  </thead>\n",
       "  <tbody>\n",
       "    <tr>\n",
       "      <th>0</th>\n",
       "      <td>1</td>\n",
       "      <td>130</td>\n",
       "      <td>120</td>\n",
       "    </tr>\n",
       "    <tr>\n",
       "      <th>1</th>\n",
       "      <td>2</td>\n",
       "      <td>142</td>\n",
       "      <td>135</td>\n",
       "    </tr>\n",
       "    <tr>\n",
       "      <th>2</th>\n",
       "      <td>3</td>\n",
       "      <td>120</td>\n",
       "      <td>118</td>\n",
       "    </tr>\n",
       "    <tr>\n",
       "      <th>3</th>\n",
       "      <td>4</td>\n",
       "      <td>135</td>\n",
       "      <td>127</td>\n",
       "    </tr>\n",
       "    <tr>\n",
       "      <th>4</th>\n",
       "      <td>5</td>\n",
       "      <td>148</td>\n",
       "      <td>140</td>\n",
       "    </tr>\n",
       "    <tr>\n",
       "      <th>...</th>\n",
       "      <td>...</td>\n",
       "      <td>...</td>\n",
       "      <td>...</td>\n",
       "    </tr>\n",
       "    <tr>\n",
       "      <th>95</th>\n",
       "      <td>96</td>\n",
       "      <td>136</td>\n",
       "      <td>129</td>\n",
       "    </tr>\n",
       "    <tr>\n",
       "      <th>96</th>\n",
       "      <td>97</td>\n",
       "      <td>143</td>\n",
       "      <td>137</td>\n",
       "    </tr>\n",
       "    <tr>\n",
       "      <th>97</th>\n",
       "      <td>98</td>\n",
       "      <td>127</td>\n",
       "      <td>123</td>\n",
       "    </tr>\n",
       "    <tr>\n",
       "      <th>98</th>\n",
       "      <td>99</td>\n",
       "      <td>139</td>\n",
       "      <td>135</td>\n",
       "    </tr>\n",
       "    <tr>\n",
       "      <th>99</th>\n",
       "      <td>100</td>\n",
       "      <td>135</td>\n",
       "      <td>130</td>\n",
       "    </tr>\n",
       "  </tbody>\n",
       "</table>\n",
       "<p>100 rows × 3 columns</p>\n",
       "</div>"
      ],
      "text/plain": [
       "    Patient ID   Blood Pressure Before (mmHg)   Blood Pressure After (mmHg)\n",
       "0            1                            130                           120\n",
       "1            2                            142                           135\n",
       "2            3                            120                           118\n",
       "3            4                            135                           127\n",
       "4            5                            148                           140\n",
       "..         ...                            ...                           ...\n",
       "95          96                            136                           129\n",
       "96          97                            143                           137\n",
       "97          98                            127                           123\n",
       "98          99                            139                           135\n",
       "99         100                            135                           130\n",
       "\n",
       "[100 rows x 3 columns]"
      ]
     },
     "execution_count": 2,
     "metadata": {},
     "output_type": "execute_result"
    }
   ],
   "source": [
    "data"
   ]
  },
  {
   "cell_type": "markdown",
   "id": "f3a962fd",
   "metadata": {},
   "source": [
    "#### a. Check whether the distribution of all the classes are the same or not.\n",
    "To check whether the distributions of all the classes are the same or not, we can perform a one-way ANOVA (Analysis of Variance) test. The null hypothesis is that the means of all the classes are equal, and an alternative hypothesis is that at least one mean is different"
   ]
  },
  {
   "cell_type": "code",
   "execution_count": 3,
   "id": "95c62622",
   "metadata": {},
   "outputs": [
    {
     "name": "stdout",
     "output_type": "stream",
     "text": [
      "a. One-way ANOVA:\n",
      "   The distributions of the classes are not the same.\n"
     ]
    }
   ],
   "source": [
    "# Perform one-way ANOVA\n",
    "result = stats.f_oneway(data['Patient ID'], data[' Blood Pressure Before (mmHg)'], data[' Blood Pressure After (mmHg)'])\n",
    "p_value = result.pvalue\n",
    "\n",
    "# Print the result\n",
    "print(\"a. One-way ANOVA:\")\n",
    "if p_value < 0.05:\n",
    "    print(\"   The distributions of the classes are not the same.\")\n",
    "else:\n",
    "    print(\"   The distributions of the classes are the same.\")"
   ]
  },
  {
   "cell_type": "code",
   "execution_count": null,
   "id": "638f4ed6",
   "metadata": {},
   "outputs": [],
   "source": []
  },
  {
   "cell_type": "markdown",
   "id": "51bc5244",
   "metadata": {},
   "source": [
    "#### b. Check for the equality of variance\n",
    "To check for the equality of variances between the classes, we can perform Levene's test."
   ]
  },
  {
   "cell_type": "code",
   "execution_count": 4,
   "id": "35a0cf76",
   "metadata": {},
   "outputs": [
    {
     "name": "stdout",
     "output_type": "stream",
     "text": [
      "b. Levene's test:\n",
      "   The variances of the classes are not equal.\n"
     ]
    }
   ],
   "source": [
    "# Perform Levene's test\n",
    "result = stats.levene(data['Patient ID'], data[' Blood Pressure Before (mmHg)'], data[' Blood Pressure After (mmHg)'])\n",
    "p_value = result.pvalue\n",
    "\n",
    "# Print the result\n",
    "print(\"b. Levene's test:\")\n",
    "if p_value < 0.05:\n",
    "    print(\"   The variances of the classes are not equal.\")\n",
    "else:\n",
    "    print(\"   The variances of the classes are equal.\")"
   ]
  },
  {
   "cell_type": "code",
   "execution_count": null,
   "id": "59633a2a",
   "metadata": {},
   "outputs": [],
   "source": []
  },
  {
   "cell_type": "markdown",
   "id": "96484225",
   "metadata": {},
   "source": [
    "#### c. Which amount LDA and QDA would perform better on this data for classification and why.\n",
    "To determine whether LDA (Linear Discriminant Analysis) or QDA (Quadratic Discriminant Analysis) would perform better for classification on this data, we need to consider the assumptions of each method. LDA assumes that the classes have equal covariance matrices and that the decision boundaries are linear. QDA relaxes the assumption of equal covariance matrices but assumes that the decision boundaries are quadratic.\n",
    "\n",
    "Since we have already checked the equality of variances, if the variances are not equal, QDA would be more appropriate. If the variances are equal and the decision boundaries are expected to be linear, LDA would be preferred."
   ]
  },
  {
   "cell_type": "code",
   "execution_count": null,
   "id": "5745a021",
   "metadata": {},
   "outputs": [],
   "source": []
  },
  {
   "cell_type": "markdown",
   "id": "88b23e0c",
   "metadata": {},
   "source": [
    "#### d. Check the equality of mean for between all the classes.\n",
    "To check the equality of means between all the classes, we can perform a one-way ANOVA with pairwise comparisons using Tukey's HSD (Honestly Significant Difference) test. This test compares all possible pairs of means and provides p-values for each comparison."
   ]
  },
  {
   "cell_type": "code",
   "execution_count": 5,
   "id": "cb429bdf",
   "metadata": {},
   "outputs": [
    {
     "name": "stdout",
     "output_type": "stream",
     "text": [
      "d. Equality of mean for all the classes:\n",
      "   p-value: 4.2129947763698897e-113\n",
      "   The means are significantly different.\n"
     ]
    }
   ],
   "source": [
    "import pandas as pd\n",
    "from scipy import stats\n",
    "\n",
    "# Perform one-way ANOVA\n",
    "result = stats.f_oneway(data['Patient ID'], data[' Blood Pressure Before (mmHg)'], data[' Blood Pressure After (mmHg)'])\n",
    "p_value = result.pvalue\n",
    "\n",
    "# Print the result\n",
    "print(\"d. Equality of mean for all the classes:\")\n",
    "print(\"   p-value:\", p_value)\n",
    "if p_value < 0.05:\n",
    "    print(\"   The means are significantly different.\")\n",
    "else:\n",
    "    print(\"   The means are not significantly different.\")"
   ]
  },
  {
   "cell_type": "code",
   "execution_count": null,
   "id": "05026fc7",
   "metadata": {},
   "outputs": [],
   "source": []
  }
 ],
 "metadata": {
  "kernelspec": {
   "display_name": "Python 3 (ipykernel)",
   "language": "python",
   "name": "python3"
  },
  "language_info": {
   "codemirror_mode": {
    "name": "ipython",
    "version": 3
   },
   "file_extension": ".py",
   "mimetype": "text/x-python",
   "name": "python",
   "nbconvert_exporter": "python",
   "pygments_lexer": "ipython3",
   "version": "3.11.2"
  }
 },
 "nbformat": 4,
 "nbformat_minor": 5
}
