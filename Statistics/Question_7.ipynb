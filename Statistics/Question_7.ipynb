{
 "cells": [
  {
   "cell_type": "markdown",
   "id": "f910c35d",
   "metadata": {},
   "source": [
    "#### Q-7. The equations of two lines of regression, obtained in a correlation analysis between variables X and Y are as follows:\n",
    "\n",
    "and . 2X + 3 − 8 = 0 2Y + X − 5 = 0 The variance of X = 4 Find the\n",
    "\n",
    "a. Variance of Y\n",
    "\n",
    "b. Coefficient of determination of C and Y\n",
    "\n",
    "c. Standard error of estimate of X on Y and of Y on X."
   ]
  },
  {
   "cell_type": "markdown",
   "id": "93a7d70c",
   "metadata": {},
   "source": [
    "#### a. Variance of Y\n",
    "ans: The variance of Y can be calculated using the formula:\n",
    "\n",
    "Var(Y) = Σ(Y - Ŷ)² / (n - 2)\n",
    "\n",
    "In this case, we need the actual data points to calculate the variance of Y. Since the data points are not provided, we cannot determine the variance of Y."
   ]
  },
  {
   "cell_type": "code",
   "execution_count": null,
   "id": "455ea04a",
   "metadata": {},
   "outputs": [],
   "source": []
  },
  {
   "cell_type": "markdown",
   "id": "57d98add",
   "metadata": {},
   "source": [
    "#### b. Coefficient of determination of C and Y\n",
    "Ans: The coefficient of determination represents the proportion of the total variation in the dependent variable (Y) that can be explained by the independent variable (X). It is calculated as the square of the correlation coefficient (r).\n",
    "\n",
    "Without the correlation coefficient (r), we cannot determine the coefficient of determination (R²).\n",
    "\n",
    "R^2 = (slope of regression line for Y)^2\n",
    "\n",
    "R^2 = (-1/2)^2\n",
    "\n",
    "R^2 = 1/4\n",
    "\n",
    "Therefore, the coefficient of determination of X and Y is 1/4."
   ]
  },
  {
   "cell_type": "code",
   "execution_count": null,
   "id": "127480cf",
   "metadata": {},
   "outputs": [],
   "source": []
  },
  {
   "cell_type": "markdown",
   "id": "834ce78a",
   "metadata": {},
   "source": [
    "#### c. Standard error of estimate of X on Y and of Y on X.\n",
    "Ans: The standard error of estimate represents the average distance between the predicted values (Ŷ or X̂) and the actual values (Y or X) on the regression line.\n",
    "\n",
    "To calculate the standard error of estimate, we need the actual data points. Since the data points are not provided, we cannot calculate the standard error of estimate of X on Y and of Y on X."
   ]
  },
  {
   "cell_type": "code",
   "execution_count": null,
   "id": "462c0e80",
   "metadata": {},
   "outputs": [],
   "source": []
  },
  {
   "cell_type": "markdown",
   "id": "52b45442",
   "metadata": {},
   "source": [
    "### In summary:\n",
    "a) The variance of Y cannot be determined without the actual data points.\n",
    "\n",
    "b) The coefficient of determination (R²) cannot be determined without the correlation coefficient.\n",
    "\n",
    "c) The standard error of estimate of X on Y and of Y on X cannot be calculated without the actual data points.\n"
   ]
  },
  {
   "cell_type": "code",
   "execution_count": null,
   "id": "41aa4be0",
   "metadata": {},
   "outputs": [],
   "source": []
  }
 ],
 "metadata": {
  "kernelspec": {
   "display_name": "Python 3 (ipykernel)",
   "language": "python",
   "name": "python3"
  },
  "language_info": {
   "codemirror_mode": {
    "name": "ipython",
    "version": 3
   },
   "file_extension": ".py",
   "mimetype": "text/x-python",
   "name": "python",
   "nbconvert_exporter": "python",
   "pygments_lexer": "ipython3",
   "version": "3.11.2"
  }
 },
 "nbformat": 4,
 "nbformat_minor": 5
}
