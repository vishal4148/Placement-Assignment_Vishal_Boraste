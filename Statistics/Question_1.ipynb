{
 "cells": [
  {
   "cell_type": "markdown",
   "id": "ff4d0224",
   "metadata": {},
   "source": [
    "#### Question:1. A university wants to understand the relationship between the SAT scores of its applicants and their college GPA. They collect data on 500 students, including their SAT scores (out of 1600) and their college GPA (on a 4.0 scale). They find that the correlation coefficient between SAT scores and college GPA is 0.7. What does this correlation coefficient indicate about the relationship between SAT scores and college GPA?\n",
    "Ans: The correlation coefficient of 0.7 suggests a strong positive relationship between SAT scores and college GPA. This indicates that as SAT scores increase, there is a tendency for college GPA to increase as well. The correlation coefficient measures the strength and direction of the linear relationship between two variables, ranging from -1 to +1. A positive correlation signifies that the variables move in the same direction, meaning that higher SAT scores are generally associated with higher college GPAs.\n",
    "\n",
    "However, it is important to note that correlation does not imply causation. While this correlation coefficient indicates a relationship between SAT scores and college GPA, it does not imply that high SAT scores directly cause a high college GPA. There may be other factors that influence both variables or a third variable that affects both SAT scores and college GPA"
   ]
  },
  {
   "cell_type": "code",
   "execution_count": null,
   "id": "11c9ec07",
   "metadata": {},
   "outputs": [],
   "source": []
  }
 ],
 "metadata": {
  "kernelspec": {
   "display_name": "Python 3 (ipykernel)",
   "language": "python",
   "name": "python3"
  },
  "language_info": {
   "codemirror_mode": {
    "name": "ipython",
    "version": 3
   },
   "file_extension": ".py",
   "mimetype": "text/x-python",
   "name": "python",
   "nbconvert_exporter": "python",
   "pygments_lexer": "ipython3",
   "version": "3.11.2"
  }
 },
 "nbformat": 4,
 "nbformat_minor": 5
}
