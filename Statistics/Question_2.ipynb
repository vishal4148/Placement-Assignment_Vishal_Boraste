{
 "cells": [
  {
   "cell_type": "markdown",
   "id": "35330e6e",
   "metadata": {},
   "source": [
    "#### Question:2 Consider a dataset containing the heights (in centimeters) of 1000 individuals. The mean height is 170 cm with a standard deviation of 10 cm. The dataset is approximately normally distributed, and its skewness is approximately zero. Based on this information, answer the following questions:\n",
    "a. What percentage of individuals in the dataset have heights between 160 cm\n",
    "and 180 cm?\n",
    "\n",
    "b. If we randomly select 100 individuals from the dataset, what is the probability that their average height is greater than 175 cm?\n",
    "\n",
    "c. Assuming the dataset follows a normal distribution, what is the z-score corresponding to a height of 185 cm?\n",
    "\n",
    "d. We know that 5% of the dataset has heights below a certain value. What is the approximate height corresponding to this threshold?\n",
    "\n",
    "e. Calculate the coefficient of variation (CV) for the dataset.\n",
    "\n",
    "f. Calculate the skewness of the dataset and interpret the result."
   ]
  },
  {
   "cell_type": "code",
   "execution_count": null,
   "id": "b5572649",
   "metadata": {},
   "outputs": [],
   "source": []
  },
  {
   "cell_type": "markdown",
   "id": "69a12b04",
   "metadata": {},
   "source": [
    "#### a. What percentage of individuals in the dataset have heights between 160 cm and 180 cm?\n",
    "Ans: The percentage of individuals in the dataset with heights between 160 cm and 180 cm is 68.26%. This is because 68.26% of the data in a normal distribution falls within 1 standard deviation of the mean. In this case, the mean is 170 cm and the standard deviation is 10 cm. Therefore, the range of heights between 160 cm and 180 cm is 1 standard deviation from the mean."
   ]
  },
  {
   "cell_type": "code",
   "execution_count": 1,
   "id": "b3e9d977",
   "metadata": {},
   "outputs": [
    {
     "name": "stdout",
     "output_type": "stream",
     "text": [
      "Percentage of individuals with heights between 160 cm and 180 cm: 68.26894921370858\n"
     ]
    }
   ],
   "source": [
    "import scipy.stats as stats\n",
    "\n",
    "mean = 170\n",
    "std_dev = 10\n",
    "\n",
    "# Calculate z-scores for 160 cm and 180 cm\n",
    "z_160 = (160 - mean) / std_dev\n",
    "z_180 = (180 - mean) / std_dev\n",
    "\n",
    "# Find the percentage using the CDF\n",
    "percentage = (stats.norm.cdf(z_180) - stats.norm.cdf(z_160)) * 100\n",
    "\n",
    "print(\"Percentage of individuals with heights between 160 cm and 180 cm:\", percentage)"
   ]
  },
  {
   "cell_type": "markdown",
   "id": "8a17a484",
   "metadata": {},
   "source": [
    "#### b. If we randomly select 100 individuals from the dataset, what is the probability that their average height is greater than 175 cm?\n",
    "Ans :  To calculate the probability that the average height of 100 randomly selected individuals is greater than 175 cm, we need to consider the sampling distribution of the mean. Since the dataset follows a normal distribution and the sample size is sufficiently large (n = 100), the sampling distribution of the mean will also be approximately normal.\n",
    "\n",
    "We calculate the z-score for the desired average height of 175 cm:\n",
    "z = (175 - 170) / (10 / √100) = 0.5\n",
    "\n",
    "Using the standard normal distribution table or a calculator, we find the probability to the right of z = 0.5."
   ]
  },
  {
   "cell_type": "code",
   "execution_count": 2,
   "id": "014c54a8",
   "metadata": {},
   "outputs": [
    {
     "name": "stdout",
     "output_type": "stream",
     "text": [
      "Probability that the average height of 100 individuals is greater than 175 cm: 2.866515719235352e-07\n"
     ]
    }
   ],
   "source": [
    "import math\n",
    "\n",
    "sample_size = 100\n",
    "sample_mean = mean\n",
    "sample_std_dev = std_dev / math.sqrt(sample_size)\n",
    "\n",
    "# Calculate z-score for 175 cm\n",
    "z_score = (175 - sample_mean) / sample_std_dev\n",
    "\n",
    "# Find the probability using the CDF\n",
    "probability = 1 - stats.norm.cdf(z_score)\n",
    "\n",
    "print(\"Probability that the average height of 100 individuals is greater than 175 cm:\", probability)"
   ]
  },
  {
   "cell_type": "markdown",
   "id": "f0d1c2ce",
   "metadata": {},
   "source": [
    "#### c. Assuming the dataset follows a normal distribution, what is the z-score corresponding to a height of 185 cm?\n",
    "Ans:Assuming the dataset follows a normal distribution, what is the z-score corresponding to a height of 185 cm?\n",
    "\n",
    "The z-score for a height of 185 cm is 1.5. This is because 185 cm is 1.5 standard deviations above the mean of 170 cm.\n",
    "To find the z-score corresponding to a height of 185 cm, we use the formula:\n",
    "z = (x - μ) / σ\n",
    "\n",
    "where x is the value (185 cm), μ is the mean (170 cm), and σ is the standard deviation (10 cm).\n"
   ]
  },
  {
   "cell_type": "code",
   "execution_count": 3,
   "id": "5f4de6df",
   "metadata": {},
   "outputs": [
    {
     "name": "stdout",
     "output_type": "stream",
     "text": [
      "The z-score corresponding to a height of 185 cm: 1.5\n"
     ]
    }
   ],
   "source": [
    "height = 185\n",
    "\n",
    "# Calculate z-score for 185 cm\n",
    "z_score = (height - mean) / std_dev\n",
    "\n",
    "print(\"The z-score corresponding to a height of 185 cm:\", z_score)"
   ]
  },
  {
   "cell_type": "markdown",
   "id": "db8a2605",
   "metadata": {},
   "source": [
    "#### d. We know that 5% of the dataset has heights below a certain value. What is the approximate height corresponding to this threshold?\n",
    "Ans: The approximate height corresponding to the threshold where 5% of the dataset has heights below it is 161 cm. This is because the z-score for a height of 161 cm is -1.645, which corresponds to a probability of 5% in a standard normal distribution.\n",
    "\n"
   ]
  },
  {
   "cell_type": "code",
   "execution_count": 4,
   "id": "0a169b2c",
   "metadata": {},
   "outputs": [
    {
     "name": "stdout",
     "output_type": "stream",
     "text": [
      "The approximate height corresponding to the threshold of 5%: 153.55146373048527\n"
     ]
    }
   ],
   "source": [
    "threshold_cdf = 0.05\n",
    "\n",
    "# Find the value using the inverse CDF (percent point function)\n",
    "threshold_height = stats.norm.ppf(threshold_cdf, loc=mean, scale=std_dev)\n",
    "\n",
    "print(\"The approximate height corresponding to the threshold of 5%:\", threshold_height)"
   ]
  },
  {
   "cell_type": "markdown",
   "id": "b3d7b02e",
   "metadata": {},
   "source": [
    "#### e. Calculate the coefficient of variation (CV) for the dataset.\n",
    "Ans:The coefficient of variation (CV) for the dataset is 0.142857. This is calculated by dividing the standard deviation by the mean, which gives us 0.142857. The CV is a measure of how spread out the data is relative to the mean. A higher CV indicates that the data is more spread out, while a lower CV indicates that the data is more tightly clustered around the mean."
   ]
  },
  {
   "cell_type": "code",
   "execution_count": 5,
   "id": "81232d0b",
   "metadata": {},
   "outputs": [
    {
     "name": "stdout",
     "output_type": "stream",
     "text": [
      "The coefficient of variation (CV) for the dataset is: 5.88%\n"
     ]
    }
   ],
   "source": [
    "cv = (std_dev / mean) * 100\n",
    "\n",
    "print(f\"The coefficient of variation (CV) for the dataset is: {cv:.2f}%\")"
   ]
  },
  {
   "cell_type": "markdown",
   "id": "7c062fc9",
   "metadata": {},
   "source": [
    "#### f. Calculate the skewness of the dataset and interpret the result.\n",
    "Ans:The skewness of the dataset is 0. The skewness is a measure of how asymmetrical the data is. A positive skew indicates that the data is skewed to the right, while a negative skew indicates that the data is skewed to the left. A skewness of 0 indicates that the data is symmetrical."
   ]
  }
 ],
 "metadata": {
  "kernelspec": {
   "display_name": "Python 3 (ipykernel)",
   "language": "python",
   "name": "python3"
  },
  "language_info": {
   "codemirror_mode": {
    "name": "ipython",
    "version": 3
   },
   "file_extension": ".py",
   "mimetype": "text/x-python",
   "name": "python",
   "nbconvert_exporter": "python",
   "pygments_lexer": "ipython3",
   "version": "3.11.2"
  }
 },
 "nbformat": 4,
 "nbformat_minor": 5
}
