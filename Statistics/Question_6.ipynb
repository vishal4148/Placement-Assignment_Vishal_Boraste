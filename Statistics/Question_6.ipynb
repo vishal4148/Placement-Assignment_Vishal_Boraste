{
 "cells": [
  {
   "cell_type": "markdown",
   "id": "84966d88",
   "metadata": {},
   "source": [
    "#### Q-6. A pharmaceutical company is developing a drug that is supposed to reduce blood pressure. They conduct a clinical trial with 100 patients and record their blood pressure before and after taking the drug. The company wants to know if the change in blood pressure follows a normal distribution.\n",
    "\n",
    "https://drive.google.com/file/d/1mCjtYHiX--mMUjicuaP2gH3k-SnFxt8Y/view?usp=share_"
   ]
  },
  {
   "cell_type": "code",
   "execution_count": 1,
   "id": "fe238237",
   "metadata": {},
   "outputs": [],
   "source": [
    "import pandas as pd\n",
    "from scipy.stats import shapiro\n",
    "\n",
    "data = pd.read_csv('data.csv')\n",
    "change_in_bp = data[' Blood Pressure After (mmHg)'] - data[' Blood Pressure Before (mmHg)']"
   ]
  },
  {
   "cell_type": "code",
   "execution_count": 2,
   "id": "0b0ee707",
   "metadata": {},
   "outputs": [
    {
     "name": "stdout",
     "output_type": "stream",
     "text": [
      "Shapiro-Wilk test p-value: 0.0014939684187993407\n"
     ]
    }
   ],
   "source": [
    "stat, p_value = shapiro(change_in_bp)\n",
    "\n",
    "print(\"Shapiro-Wilk test p-value:\", p_value)"
   ]
  },
  {
   "cell_type": "markdown",
   "id": "f782cee7",
   "metadata": {},
   "source": [
    "##### In this code, we first load the dataset and calculate the difference in blood pressure (after - before) for each patient. Then, we use the shapiro function from the scipy.stats module to perform the Shapiro-Wilk test. The test returns a test statistic and a p-value. We compare the p-value to the chosen significance level (alpha) to determine if we reject or fail to reject the null hypothesis."
   ]
  },
  {
   "cell_type": "code",
   "execution_count": null,
   "id": "6e4c9dbd",
   "metadata": {},
   "outputs": [],
   "source": []
  }
 ],
 "metadata": {
  "kernelspec": {
   "display_name": "Python 3 (ipykernel)",
   "language": "python",
   "name": "python3"
  },
  "language_info": {
   "codemirror_mode": {
    "name": "ipython",
    "version": 3
   },
   "file_extension": ".py",
   "mimetype": "text/x-python",
   "name": "python",
   "nbconvert_exporter": "python",
   "pygments_lexer": "ipython3",
   "version": "3.11.2"
  }
 },
 "nbformat": 4,
 "nbformat_minor": 5
}
