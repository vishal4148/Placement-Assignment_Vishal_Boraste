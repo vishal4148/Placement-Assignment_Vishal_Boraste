{
 "cells": [
  {
   "cell_type": "markdown",
   "id": "43f85047",
   "metadata": {},
   "source": [
    "#### Q-12. A pharmaceutical company develops a new drug and wants to compare its effectiveness against a standard drug for treating a particular condition. They conduct a study with two groups: Group A receives the new drug, and Group B receives the standard drug. The company measures the improvement in a specific symptom for both groups after a 4-week treatment period.\n",
    "\n",
    "a. The company collects data from 30 patients in each group and calculates the\n",
    "mean improvement score and the standard deviation of improvement for each\n",
    "group. The mean improvement score for Group A is 2.5 with a standard\n",
    "deviation of 0.8, while the mean improvement score for Group B is 2.2 with a\n",
    "standard deviation of 0.6. Conduct a t-test to determine if there is a significant\n",
    "difference in the mean improvement scores between the two groups. Use a\n",
    "significance level of 0.05.\n",
    "\n",
    "b. Based on the t-test results, state whether the null hypothesis should be\n",
    "rejected or not. Provide a conclusion in the context of the study.\n",
    "\n",
    "Ans.\n",
    "\n",
    "To conduct a t-test and determine if there is a significant difference in the mean improvement scores between Group A and Group B, we can use the independent samples t-test. Here's how you can perform the analysis:"
   ]
  },
  {
   "cell_type": "markdown",
   "id": "da32c7f5",
   "metadata": {},
   "source": [
    "#### a. T-test to compare mean improvement scores:"
   ]
  },
  {
   "cell_type": "code",
   "execution_count": 1,
   "id": "03ce74ee",
   "metadata": {},
   "outputs": [
    {
     "name": "stdout",
     "output_type": "stream",
     "text": [
      "a. T-test results:\n",
      "   t-statistic: 1.6431676725154976\n",
      "   p-value: 0.10575916705583671\n"
     ]
    }
   ],
   "source": [
    "import scipy.stats as stats\n",
    "\n",
    "# Define the sample statistics for Group A and Group B\n",
    "mean_a = 2.5\n",
    "std_a = 0.8\n",
    "n_a = 30\n",
    "\n",
    "mean_b = 2.2\n",
    "std_b = 0.6\n",
    "n_b = 30\n",
    "\n",
    "# Perform independent samples t-test\n",
    "t_stat, p_value = stats.ttest_ind_from_stats(mean_a, std_a, n_a, mean_b, std_b, n_b)\n",
    "\n",
    "# Print the t-statistic and p-value\n",
    "print(\"a. T-test results:\")\n",
    "print(\"   t-statistic:\", t_stat)\n",
    "print(\"   p-value:\", p_value)"
   ]
  },
  {
   "cell_type": "markdown",
   "id": "7ba1a44a",
   "metadata": {},
   "source": [
    "#### b. Interpretation and conclusion: Based on the t-test results, we can evaluate the p-value to determine if there is a significant difference in the mean improvement scores between the two groups. If the p-value is less than the significance level (0.05 in this case), we reject the null hypothesis.\n",
    "\n",
    "If the p-value is greater than or equal to the significance level, we fail to reject the null hypothesis.\n",
    "\n",
    "For example, if the p-value is less than 0.05, we can conclude that there is a significant difference in the mean improvement scores between Group A and Group B. On the other hand, if the p-value is greater than or equal to 0.05, we would not have enough evidence to conclude that there is a significant difference between the two groups."
   ]
  },
  {
   "cell_type": "code",
   "execution_count": null,
   "id": "92669e57",
   "metadata": {},
   "outputs": [],
   "source": []
  }
 ],
 "metadata": {
  "kernelspec": {
   "display_name": "Python 3 (ipykernel)",
   "language": "python",
   "name": "python3"
  },
  "language_info": {
   "codemirror_mode": {
    "name": "ipython",
    "version": 3
   },
   "file_extension": ".py",
   "mimetype": "text/x-python",
   "name": "python",
   "nbconvert_exporter": "python",
   "pygments_lexer": "ipython3",
   "version": "3.11.2"
  }
 },
 "nbformat": 4,
 "nbformat_minor": 5
}
