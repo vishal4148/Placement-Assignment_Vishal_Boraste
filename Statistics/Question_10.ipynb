{
 "cells": [
  {
   "cell_type": "markdown",
   "id": "92f54a8f",
   "metadata": {},
   "source": [
    "#### Q-10. A factory produces light bulbs, and the probability of a bulb being defective is 0.05. The factory produces a large batch of 500 light bulbs.\n",
    "a. What is the probability that exactly 20 bulbs are defective?\n",
    "\n",
    "b. What is the probability that at least 10 bulbs are defective?\n",
    "\n",
    "c. What is the probability that at max 15 bulbs are defective?\n",
    "\n",
    "d. On average, how many defective bulbs would you expect in a batch of 500?"
   ]
  },
  {
   "cell_type": "markdown",
   "id": "8aa6d94e",
   "metadata": {},
   "source": [
    "Ans.\n",
    "To solve the given probability questions, we will use the binomial distribution formula. In the binomial distribution, we have the following parameters:\n",
    "\n",
    "n: Number of trials p: Probability of success in a single trial X: Number of successful outcomes"
   ]
  },
  {
   "cell_type": "markdown",
   "id": "3eb2340f",
   "metadata": {},
   "source": [
    "#### a. Probability of exactly 20 bulbs being defective:\n",
    "\n",
    "We can calculate this using the binomial probability formula:\n",
    "\n",
    "P(X = 20) = (n C X) * (p^X) * ((1 - p)^(n - X))\n",
    "\n",
    "where (n C X) represents the binomial coefficient.\n",
    "\n",
    "Substituting the values:\n",
    "\n",
    "P(X = 20) = (500 C 20) * (0.05^20) * (0.95^(500 - 20))"
   ]
  },
  {
   "cell_type": "markdown",
   "id": "9124779b",
   "metadata": {},
   "source": [
    "#### b. Probability of at least 10 bulbs being defective:\n",
    "\n",
    "To calculate this, we need to find the probabilities of 10, 11, 12, ..., up to 500 bulbs being defective, and then sum them.\n",
    "\n",
    "P(X ≥ 10) = P(X = 10) + P(X = 11) + ... + P(X = 500)"
   ]
  },
  {
   "cell_type": "markdown",
   "id": "57e76285",
   "metadata": {},
   "source": [
    "#### c. Probability of at most 15 bulbs being defective:\n",
    "\n",
    "This is equivalent to the complement of the probability of having more than 15 defective bulbs. So we can calculate:\n",
    "\n",
    "P(X ≤ 15) = 1 - P(X > 15)"
   ]
  },
  {
   "cell_type": "markdown",
   "id": "869e2495",
   "metadata": {},
   "source": [
    "#### d. Expected number of defective bulbs:\n",
    "\n",
    "The expected number of defective bulbs is given by the formula:\n",
    "\n",
    "E(X) = n * p\n",
    "\n",
    "Substituting the values:\n",
    "\n",
    "E(X) = 500 * 0.05"
   ]
  },
  {
   "cell_type": "code",
   "execution_count": 1,
   "id": "04fc2402",
   "metadata": {},
   "outputs": [
    {
     "name": "stdout",
     "output_type": "stream",
     "text": [
      "a. Probability of exactly 20 bulbs being defective: 0.05161619253663997\n",
      "b. Probability of at least 10 bulbs being defective: 0.9998316463654692\n",
      "c. Probability of at most 15 bulbs being defective: 0.019858377163027074\n",
      "d. Expected number of defective bulbs: 25.0\n"
     ]
    }
   ],
   "source": [
    "import math\n",
    "\n",
    "# Binomial probability function\n",
    "def binomial_probability(n, x, p):\n",
    "    coefficient = math.comb(n, x)\n",
    "    probability = coefficient * (p ** x) * ((1 - p) ** (n - x))\n",
    "    return probability\n",
    "\n",
    "# a. Probability of exactly 20 bulbs being defective\n",
    "p_20 = binomial_probability(500, 20, 0.05)\n",
    "\n",
    "# b. Probability of at least 10 bulbs being defective\n",
    "p_at_least_10 = sum(binomial_probability(500, x, 0.05) for x in range(10, 501))\n",
    "\n",
    "# c. Probability of at most 15 bulbs being defective\n",
    "p_at_most_15 = 1 - sum(binomial_probability(500, x, 0.05) for x in range(16, 501))\n",
    "\n",
    "# d. Expected number of defective bulbs\n",
    "expected_defective = 500 * 0.05\n",
    "\n",
    "print(\"a. Probability of exactly 20 bulbs being defective:\", p_20)\n",
    "print(\"b. Probability of at least 10 bulbs being defective:\", p_at_least_10)\n",
    "print(\"c. Probability of at most 15 bulbs being defective:\", p_at_most_15)\n",
    "print(\"d. Expected number of defective bulbs:\", expected_defective)"
   ]
  },
  {
   "cell_type": "code",
   "execution_count": null,
   "id": "f6fca109",
   "metadata": {},
   "outputs": [],
   "source": []
  }
 ],
 "metadata": {
  "kernelspec": {
   "display_name": "Python 3 (ipykernel)",
   "language": "python",
   "name": "python3"
  },
  "language_info": {
   "codemirror_mode": {
    "name": "ipython",
    "version": 3
   },
   "file_extension": ".py",
   "mimetype": "text/x-python",
   "name": "python",
   "nbconvert_exporter": "python",
   "pygments_lexer": "ipython3",
   "version": "3.11.2"
  }
 },
 "nbformat": 4,
 "nbformat_minor": 5
}
